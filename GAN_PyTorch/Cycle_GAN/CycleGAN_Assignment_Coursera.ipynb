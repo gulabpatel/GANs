{
  "nbformat": 4,
  "nbformat_minor": 0,
  "metadata": {
    "colab": {
      "name": "CycleGAN_Assignment_Coursera.ipynb",
      "provenance": [],
      "collapsed_sections": []
    },
    "kernelspec": {
      "name": "python3",
      "display_name": "Python 3"
    }
  },
  "cells": [
    {
      "cell_type": "markdown",
      "metadata": {
        "id": "ADpSb-bfjbxj"
      },
      "source": [
        "#**CycleGAN**\r\n",
        "**Goals**\r\n",
        "\r\n",
        "In this notebook, you will write a generative model based on the paper [Unpaired Image-to-Image Translation using Cycle-Consistent Adversarial Networks](https://arxiv.org/abs/1703.10593) by Zhu et al. 2017, commonly referred to as CycleGAN.\r\n",
        "\r\n",
        "You will be training a model that can convert horses into zebras, and vice versa. Once again, the emphasis of the assignment will be on the loss functions. In order for you to see good outputs more quickly, you'll be training your model starting from a pre-trained checkpoint. You are also welcome to train it from scratch on your own, if you so choose.\r\n",
        "\r\n",
        "**Learning Objectives**\r\n",
        "1. Implement the loss functions of a CycleGAN model.\r\n",
        "2. Observe the two GANs used in CycleGAN."
      ]
    },
    {
      "cell_type": "markdown",
      "metadata": {
        "id": "6KWSzirykJu3"
      },
      "source": [
        "**Getting Started**\r\n",
        "You will start by importing libraries, defining a visualization function, and getting the pre-trained CycleGAN checkpoint."
      ]
    },
    {
      "cell_type": "code",
      "metadata": {
        "id": "C8s_uXJSkC4i"
      },
      "source": [
        "import torch\r\n",
        "from torch import nn\r\n",
        "from tqdm.auto import tqdm\r\n",
        "from torchvision import transforms\r\n",
        "from torchvision.utils import make_grid\r\n",
        "from torch.utils.data import DataLoader\r\n",
        "import matplotlib.pyplot as plt\r\n",
        "torch.manual_seed(0)\r\n",
        "\r\n",
        "def show_tensor_images(image_tensor, num_images=25, size=(1, 28, 28)):\r\n",
        "    '''\r\n",
        "    Function for visualizing images: Given a tensor of images, number of images, and\r\n",
        "    size per image, plots and prints the images in an uniform grid.\r\n",
        "    '''\r\n",
        "    image_tensor = (image_tensor + 1) / 2\r\n",
        "    image_shifted = image_tensor\r\n",
        "    image_unflat = image_shifted.detach().cpu().view(-1, *size)\r\n",
        "    image_grid = make_grid(image_unflat[:num_images], nrow=5)\r\n",
        "    plt.imshow(image_grid.permute(1, 2, 0).squeeze())\r\n",
        "    plt.show()\r\n",
        "\r\n",
        "\r\n",
        "import glob\r\n",
        "import random\r\n",
        "import os\r\n",
        "from torch.utils.data import Dataset\r\n",
        "from PIL import Image\r\n",
        "\r\n",
        "# Inspired by https://github.com/aitorzip/PyTorch-CycleGAN/blob/master/datasets.py\r\n",
        "class ImageDataset(Dataset):\r\n",
        "    def __init__(self, root, transform=None, mode='train'):\r\n",
        "        self.transform = transform\r\n",
        "        self.files_A = sorted(glob.glob(os.path.join(root, '%sA' % mode) + '/*.*'))\r\n",
        "        self.files_B = sorted(glob.glob(os.path.join(root, '%sB' % mode) + '/*.*'))\r\n",
        "        if len(self.files_A) > len(self.files_B):\r\n",
        "            self.files_A, self.files_B = self.files_B, self.files_A\r\n",
        "        self.new_perm()\r\n",
        "        assert len(self.files_A) > 0, \"Make sure you downloaded the horse2zebra images!\"\r\n",
        "\r\n",
        "    def new_perm(self):\r\n",
        "        self.randperm = torch.randperm(len(self.files_B))[:len(self.files_A)]\r\n",
        "\r\n",
        "    def __getitem__(self, index):\r\n",
        "        item_A = self.transform(Image.open(self.files_A[index % len(self.files_A)]))\r\n",
        "        item_B = self.transform(Image.open(self.files_B[self.randperm[index]]))\r\n",
        "        if item_A.shape[0] != 3: \r\n",
        "            item_A = item_A.repeat(3, 1, 1)\r\n",
        "        if item_B.shape[0] != 3: \r\n",
        "            item_B = item_B.repeat(3, 1, 1)\r\n",
        "        if index == len(self) - 1:\r\n",
        "            self.new_perm()\r\n",
        "        # Old versions of PyTorch didn't support normalization for different-channeled images\r\n",
        "        return (item_A - 0.5) * 2, (item_B - 0.5) * 2\r\n",
        "\r\n",
        "    def __len__(self):\r\n",
        "        return min(len(self.files_A), len(self.files_B))"
      ],
      "execution_count": null,
      "outputs": []
    },
    {
      "cell_type": "markdown",
      "metadata": {
        "id": "sIWSs0v4kVPe"
      },
      "source": [
        "#**Generator**\r\n",
        "The code for a CycleGAN generator is much like Pix2Pix's U-Net with the addition of the residual block between the encoding (contracting) and decoding (expanding) blocks.\r\n",
        "\r\n",
        "Diagram of a CycleGAN generator: composed of encoding blocks, residual blocks, then decoding blocksDiagram of a CycleGAN generator: composed of encoding blocks, residual blocks, and then decoding blocks."
      ]
    },
    {
      "cell_type": "markdown",
      "metadata": {
        "id": "UmIKNLHLk0BU"
      },
      "source": [
        "**Residual Block**\r\n",
        "\r\n",
        "Perhaps the most notable architectural difference between the U-Net you used for Pix2Pix and the architecture you're using for CycleGAN are the residual blocks. In CycleGAN, after the expanding blocks, there are convolutional layers where the output is ultimately added to the original input so that the network can change as little as possible on the image. You can think of this transformation as a kind of skip connection, where instead of being concatenated as new channels before the convolution which combines them, it's added directly to the output of the convolution. In the visualization below, you can imagine the stripes being generated by the convolutions and then added to the original image of the horse to transform it into a zebra. These skip connections also allow the network to be deeper, because they help with vanishing gradients issues that come when a neural network gets too deep and the gradients multiply in backpropagation to become very small; instead, these skip connections enable more gradient flow. A deeper network is often able to learn more complex features.\r\n",
        "\r\n",
        "Residual block explanation: shows horse going through convolutions leading to stripes, added to the original horse image to get a zebra\r\n",
        "\r\n",
        "Example of a residual block."
      ]
    },
    {
      "cell_type": "code",
      "metadata": {
        "colab": {
          "base_uri": "https://localhost:8080/",
          "height": 248
        },
        "id": "ozIlJRB2i8fG",
        "outputId": "84c94bba-0b45-491f-93af-40b928ed63c2"
      },
      "source": [
        "class ResidualBlock(nn.Module):\r\n",
        "    '''\r\n",
        "    ResidualBlock Class:\r\n",
        "    Performs two convolutions and an instance normalization, the input is added\r\n",
        "    to this output to form the residual block output.\r\n",
        "    Values:\r\n",
        "        input_channels: the number of channels to expect from a given input\r\n",
        "    '''\r\n",
        "    def __init__(self, input_channels):\r\n",
        "        super(ResidualBlock, self).__init__()\r\n",
        "        self.conv1 = nn.Conv2d(input_channels, input_channels, kernel_size=3, padding=1, padding_mode='reflect')\r\n",
        "        self.conv2 = nn.Conv2d(input_channels, input_channels, kernel_size=3, padding=1, padding_mode='reflect')\r\n",
        "        self.instancenorm = nn.InstanceNorm2d(input_channels)\r\n",
        "        self.activation = nn.ReLU()\r\n",
        "\r\n",
        "    def forward(self, x):\r\n",
        "        '''\r\n",
        "        Function for completing a forward pass of ResidualBlock: \r\n",
        "        Given an image tensor, completes a residual block and returns the transformed tensor.\r\n",
        "        Parameters:\r\n",
        "            x: image tensor of shape (batch size, channels, height, width)\r\n",
        "        '''\r\n",
        "        original_x = x.clone()\r\n",
        "        x = self.conv1(x)\r\n",
        "        x = self.instancenorm(x)\r\n",
        "        x = self.activation(x)\r\n",
        "        x = self.conv2(x)\r\n",
        "        x = self.instancenorm(x)\r\n",
        "        return original_x + x"
      ],
      "execution_count": 1,
      "outputs": [
        {
          "output_type": "error",
          "ename": "NameError",
          "evalue": "ignored",
          "traceback": [
            "\u001b[0;31m---------------------------------------------------------------------------\u001b[0m",
            "\u001b[0;31mNameError\u001b[0m                                 Traceback (most recent call last)",
            "\u001b[0;32m<ipython-input-1-48a4b1f79bf9>\u001b[0m in \u001b[0;36m<module>\u001b[0;34m()\u001b[0m\n\u001b[0;32m----> 1\u001b[0;31m \u001b[0;32mclass\u001b[0m \u001b[0mResidualBlock\u001b[0m\u001b[0;34m(\u001b[0m\u001b[0mnn\u001b[0m\u001b[0;34m.\u001b[0m\u001b[0mModule\u001b[0m\u001b[0;34m)\u001b[0m\u001b[0;34m:\u001b[0m\u001b[0;34m\u001b[0m\u001b[0;34m\u001b[0m\u001b[0m\n\u001b[0m\u001b[1;32m      2\u001b[0m     '''\n\u001b[1;32m      3\u001b[0m     \u001b[0mResidualBlock\u001b[0m \u001b[0mClass\u001b[0m\u001b[0;34m:\u001b[0m\u001b[0;34m\u001b[0m\u001b[0;34m\u001b[0m\u001b[0m\n\u001b[1;32m      4\u001b[0m     \u001b[0mPerforms\u001b[0m \u001b[0mtwo\u001b[0m \u001b[0mconvolutions\u001b[0m \u001b[0;32mand\u001b[0m \u001b[0man\u001b[0m \u001b[0minstance\u001b[0m \u001b[0mnormalization\u001b[0m\u001b[0;34m,\u001b[0m \u001b[0mthe\u001b[0m \u001b[0minput\u001b[0m \u001b[0;32mis\u001b[0m \u001b[0madded\u001b[0m\u001b[0;34m\u001b[0m\u001b[0;34m\u001b[0m\u001b[0m\n\u001b[1;32m      5\u001b[0m     \u001b[0mto\u001b[0m \u001b[0mthis\u001b[0m \u001b[0moutput\u001b[0m \u001b[0mto\u001b[0m \u001b[0mform\u001b[0m \u001b[0mthe\u001b[0m \u001b[0mresidual\u001b[0m \u001b[0mblock\u001b[0m \u001b[0moutput\u001b[0m\u001b[0;34m.\u001b[0m\u001b[0;34m\u001b[0m\u001b[0;34m\u001b[0m\u001b[0m\n",
            "\u001b[0;31mNameError\u001b[0m: name 'nn' is not defined"
          ]
        }
      ]
    },
    {
      "cell_type": "markdown",
      "metadata": {
        "id": "XcDl02walQ1j"
      },
      "source": [
        "**Contracting and Expanding Blocks**\r\n",
        "\r\n",
        "The rest of the generator code will otherwise be much like the code you wrote for the last assignment: Pix2Pix's U-Net. The primary changes are the use of instance norm instead of batch norm (which you may recall from StyleGAN), no dropout, and a stride-2 convolution instead of max pooling. Feel free to investigate the code if you're interested!"
      ]
    },
    {
      "cell_type": "code",
      "metadata": {
        "id": "TR4BnNjGlN1-"
      },
      "source": [
        "class ContractingBlock(nn.Module):\r\n",
        "    '''\r\n",
        "    ContractingBlock Class\r\n",
        "    Performs a convolution followed by a max pool operation and an optional instance norm.\r\n",
        "    Values:\r\n",
        "        input_channels: the number of channels to expect from a given input\r\n",
        "    '''\r\n",
        "    def __init__(self, input_channels, use_bn=True, kernel_size=3, activation='relu'):\r\n",
        "        super(ContractingBlock, self).__init__()\r\n",
        "        self.conv1 = nn.Conv2d(input_channels, input_channels * 2, kernel_size=kernel_size, padding=1, stride=2, padding_mode='reflect')\r\n",
        "        self.activation = nn.ReLU() if activation == 'relu' else nn.LeakyReLU(0.2)\r\n",
        "        if use_bn:\r\n",
        "            self.instancenorm = nn.InstanceNorm2d(input_channels * 2)\r\n",
        "        self.use_bn = use_bn\r\n",
        "\r\n",
        "    def forward(self, x):\r\n",
        "        '''\r\n",
        "        Function for completing a forward pass of ContractingBlock: \r\n",
        "        Given an image tensor, completes a contracting block and returns the transformed tensor.\r\n",
        "        Parameters:\r\n",
        "            x: image tensor of shape (batch size, channels, height, width)\r\n",
        "        '''\r\n",
        "        x = self.conv1(x)\r\n",
        "        if self.use_bn:\r\n",
        "            x = self.instancenorm(x)\r\n",
        "        x = self.activation(x)\r\n",
        "        return x\r\n",
        "\r\n",
        "class ExpandingBlock(nn.Module):\r\n",
        "    '''\r\n",
        "    ExpandingBlock Class:\r\n",
        "    Performs a convolutional transpose operation in order to upsample, \r\n",
        "        with an optional instance norm\r\n",
        "    Values:\r\n",
        "        input_channels: the number of channels to expect from a given input\r\n",
        "    '''\r\n",
        "    def __init__(self, input_channels, use_bn=True):\r\n",
        "        super(ExpandingBlock, self).__init__()\r\n",
        "        self.conv1 = nn.ConvTranspose2d(input_channels, input_channels // 2, kernel_size=3, stride=2, padding=1, output_padding=1)\r\n",
        "        if use_bn:\r\n",
        "            self.instancenorm = nn.InstanceNorm2d(input_channels // 2)\r\n",
        "        self.use_bn = use_bn\r\n",
        "        self.activation = nn.ReLU()\r\n",
        "\r\n",
        "    def forward(self, x):\r\n",
        "        '''\r\n",
        "        Function for completing a forward pass of ExpandingBlock: \r\n",
        "        Given an image tensor, completes an expanding block and returns the transformed tensor.\r\n",
        "        Parameters:\r\n",
        "            x: image tensor of shape (batch size, channels, height, width)\r\n",
        "            skip_con_x: the image tensor from the contracting path (from the opposing block of x)\r\n",
        "                    for the skip connection\r\n",
        "        '''\r\n",
        "        x = self.conv1(x)\r\n",
        "        if self.use_bn:\r\n",
        "            x = self.instancenorm(x)\r\n",
        "        x = self.activation(x)\r\n",
        "        return x\r\n",
        "\r\n",
        "class FeatureMapBlock(nn.Module):\r\n",
        "    '''\r\n",
        "    FeatureMapBlock Class\r\n",
        "    The final layer of a Generator - \r\n",
        "    maps each the output to the desired number of output channels\r\n",
        "    Values:\r\n",
        "        input_channels: the number of channels to expect from a given input\r\n",
        "        output_channels: the number of channels to expect for a given output\r\n",
        "    '''\r\n",
        "    def __init__(self, input_channels, output_channels):\r\n",
        "        super(FeatureMapBlock, self).__init__()\r\n",
        "        self.conv = nn.Conv2d(input_channels, output_channels, kernel_size=7, padding=3, padding_mode='reflect')\r\n",
        "\r\n",
        "    def forward(self, x):\r\n",
        "        '''\r\n",
        "        Function for completing a forward pass of FeatureMapBlock: \r\n",
        "        Given an image tensor, returns it mapped to the desired number of channels.\r\n",
        "        Parameters:\r\n",
        "            x: image tensor of shape (batch size, channels, height, width)\r\n",
        "        '''\r\n",
        "        x = self.conv(x)\r\n",
        "        return x"
      ],
      "execution_count": null,
      "outputs": []
    },
    {
      "cell_type": "markdown",
      "metadata": {
        "id": "0_7m8o0fljPG"
      },
      "source": [
        "**CycleGAN Generator**\r\n",
        "\r\n",
        "Finally, you can put all the blocks together to create your CycleGAN generator."
      ]
    },
    {
      "cell_type": "code",
      "metadata": {
        "id": "9vg0YT9ilmDr"
      },
      "source": [
        "class Generator(nn.Module):\r\n",
        "    '''\r\n",
        "    Generator Class\r\n",
        "    A series of 2 contracting blocks, 9 residual blocks, and 2 expanding blocks to \r\n",
        "    transform an input image into an image from the other class, with an upfeature\r\n",
        "    layer at the start and a downfeature layer at the end.\r\n",
        "    Values:\r\n",
        "        input_channels: the number of channels to expect from a given input\r\n",
        "        output_channels: the number of channels to expect for a given output\r\n",
        "    '''\r\n",
        "    def __init__(self, input_channels, output_channels, hidden_channels=64):\r\n",
        "        super(Generator, self).__init__()\r\n",
        "        self.upfeature = FeatureMapBlock(input_channels, hidden_channels)\r\n",
        "        self.contract1 = ContractingBlock(hidden_channels)\r\n",
        "        self.contract2 = ContractingBlock(hidden_channels * 2)\r\n",
        "        res_mult = 4\r\n",
        "        self.res0 = ResidualBlock(hidden_channels * res_mult)\r\n",
        "        self.res1 = ResidualBlock(hidden_channels * res_mult)\r\n",
        "        self.res2 = ResidualBlock(hidden_channels * res_mult)\r\n",
        "        self.res3 = ResidualBlock(hidden_channels * res_mult)\r\n",
        "        self.res4 = ResidualBlock(hidden_channels * res_mult)\r\n",
        "        self.res5 = ResidualBlock(hidden_channels * res_mult)\r\n",
        "        self.res6 = ResidualBlock(hidden_channels * res_mult)\r\n",
        "        self.res7 = ResidualBlock(hidden_channels * res_mult)\r\n",
        "        self.res8 = ResidualBlock(hidden_channels * res_mult)\r\n",
        "        self.expand2 = ExpandingBlock(hidden_channels * 4)\r\n",
        "        self.expand3 = ExpandingBlock(hidden_channels * 2)\r\n",
        "        self.downfeature = FeatureMapBlock(hidden_channels, output_channels)\r\n",
        "        self.tanh = torch.nn.Tanh()\r\n",
        "\r\n",
        "    def forward(self, x):\r\n",
        "        '''\r\n",
        "        Function for completing a forward pass of Generator: \r\n",
        "        Given an image tensor, passes it through the U-Net with residual blocks\r\n",
        "        and returns the output.\r\n",
        "        Parameters:\r\n",
        "            x: image tensor of shape (batch size, channels, height, width)\r\n",
        "        '''\r\n",
        "        x0 = self.upfeature(x)\r\n",
        "        x1 = self.contract1(x0)\r\n",
        "        x2 = self.contract2(x1)\r\n",
        "        x3 = self.res0(x2)\r\n",
        "        x4 = self.res1(x3)\r\n",
        "        x5 = self.res2(x4)\r\n",
        "        x6 = self.res3(x5)\r\n",
        "        x7 = self.res4(x6)\r\n",
        "        x8 = self.res5(x7)\r\n",
        "        x9 = self.res6(x8)\r\n",
        "        x10 = self.res7(x9)\r\n",
        "        x11 = self.res8(x10)\r\n",
        "        x12 = self.expand2(x11)\r\n",
        "        x13 = self.expand3(x12)\r\n",
        "        xn = self.downfeature(x13)\r\n",
        "        return self.tanh(xn)"
      ],
      "execution_count": null,
      "outputs": []
    },
    {
      "cell_type": "markdown",
      "metadata": {
        "id": "DLhsWhw8lso0"
      },
      "source": [
        "#**PatchGAN Discriminator**\r\n",
        "Next, you will define the discriminator—a PatchGAN. It will be very similar to what you saw in Pix2Pix."
      ]
    },
    {
      "cell_type": "code",
      "metadata": {
        "id": "p2tpyT1ZlzwO"
      },
      "source": [
        "class Discriminator(nn.Module):\r\n",
        "    '''\r\n",
        "    Discriminator Class\r\n",
        "    Structured like the contracting path of the U-Net, the discriminator will\r\n",
        "    output a matrix of values classifying corresponding portions of the image as real or fake. \r\n",
        "    Parameters:\r\n",
        "        input_channels: the number of image input channels\r\n",
        "        hidden_channels: the initial number of discriminator convolutional filters\r\n",
        "    '''\r\n",
        "    def __init__(self, input_channels, hidden_channels=64):\r\n",
        "        super(Discriminator, self).__init__()\r\n",
        "        self.upfeature = FeatureMapBlock(input_channels, hidden_channels)\r\n",
        "        self.contract1 = ContractingBlock(hidden_channels, use_bn=False, kernel_size=4, activation='lrelu')\r\n",
        "        self.contract2 = ContractingBlock(hidden_channels * 2, kernel_size=4, activation='lrelu')\r\n",
        "        self.contract3 = ContractingBlock(hidden_channels * 4, kernel_size=4, activation='lrelu')\r\n",
        "        self.final = nn.Conv2d(hidden_channels * 8, 1, kernel_size=1)\r\n",
        "\r\n",
        "    def forward(self, x):\r\n",
        "        x0 = self.upfeature(x)\r\n",
        "        x1 = self.contract1(x0)\r\n",
        "        x2 = self.contract2(x1)\r\n",
        "        x3 = self.contract3(x2)\r\n",
        "        xn = self.final(x3)\r\n",
        "        return xn"
      ],
      "execution_count": null,
      "outputs": []
    },
    {
      "cell_type": "markdown",
      "metadata": {
        "id": "SwHlh_sNl7IR"
      },
      "source": [
        "**Training Preparation**\r\n",
        "Now you can put everything together for training! You will start by defining your parameters:\r\n",
        "\r\n",
        "* adv_criterion: an adversarial loss function to keep track of how well the GAN is fooling the discriminator and how well the discriminator is catching the GAN\r\n",
        "* recon_criterion: a loss function that rewards similar images to the ground truth, which \"reconstruct\" the image\r\n",
        "* n_epochs: the number of times you iterate through the entire dataset when training\r\n",
        "* dim_A: the number of channels of the images in pile A\r\n",
        "* dim_B: the number of channels of the images in pile B (note that in the visualization this is currently treated as equivalent to dim_A)\r\n",
        "* display_step: how often to display/visualize the images\r\n",
        "* batch_size: the number of images per forward/backward pass\r\n",
        "* lr: the learning rate\r\n",
        "* target_shape: the size of the input and output images (in pixels)\r\n",
        "* load_shape: the size for the dataset to load the images at before randomly cropping them to target_shape as a simple data augmentation\r\n",
        "* device: the device type"
      ]
    },
    {
      "cell_type": "code",
      "metadata": {
        "id": "SnH9owe1mekx"
      },
      "source": [
        "import torch.nn.functional as F\r\n",
        "\r\n",
        "adv_criterion = nn.MSELoss() \r\n",
        "recon_criterion = nn.L1Loss() \r\n",
        "\r\n",
        "n_epochs = 20\r\n",
        "dim_A = 3\r\n",
        "dim_B = 3\r\n",
        "display_step = 200\r\n",
        "batch_size = 1\r\n",
        "lr = 0.0002\r\n",
        "load_shape = 286\r\n",
        "target_shape = 256\r\n",
        "device = 'cuda'"
      ],
      "execution_count": null,
      "outputs": []
    },
    {
      "cell_type": "markdown",
      "metadata": {
        "id": "uEMTIrAXmico"
      },
      "source": [
        "You will then load the images of the dataset while introducing some data augmentation (e.g. crops and random horizontal flips)."
      ]
    },
    {
      "cell_type": "code",
      "metadata": {
        "id": "SLG5N7v1mkkv"
      },
      "source": [
        "transform = transforms.Compose([\r\n",
        "    transforms.Resize(load_shape),\r\n",
        "    transforms.RandomCrop(target_shape),\r\n",
        "    transforms.RandomHorizontalFlip(),\r\n",
        "    transforms.ToTensor(),\r\n",
        "])\r\n",
        "\r\n",
        "import torchvision\r\n",
        "dataset = ImageDataset(\"horse2zebra\", transform=transform)"
      ],
      "execution_count": null,
      "outputs": []
    },
    {
      "cell_type": "markdown",
      "metadata": {
        "id": "8nVt7Faimqpr"
      },
      "source": [
        "Next, you can initialize your generators and discriminators, as well as their optimizers. For CycleGAN, you will have two generators and two discriminators since there are two GANs:\r\n",
        "\r\n",
        "* Generator for horse to zebra (gen_AB)\r\n",
        "* Generator for zebra to horse (gen_BA)\r\n",
        "* Discriminator for horse (disc_A)\r\n",
        "* Discriminator for zebra (disc_B)\r\n",
        "\r\n",
        "You will also load your pre-trained model."
      ]
    },
    {
      "cell_type": "code",
      "metadata": {
        "colab": {
          "base_uri": "https://localhost:8080/",
          "height": 248
        },
        "id": "VVWnUF8mmzzA",
        "outputId": "7d56bc56-9a0c-4058-f0a6-24de3a01bfcb"
      },
      "source": [
        "gen_AB = Generator(dim_A, dim_B).to(device)\r\n",
        "gen_BA = Generator(dim_B, dim_A).to(device)\r\n",
        "gen_opt = torch.optim.Adam(list(gen_AB.parameters()) + list(gen_BA.parameters()), lr=lr, betas=(0.5, 0.999))\r\n",
        "disc_A = Discriminator(dim_A).to(device)\r\n",
        "disc_A_opt = torch.optim.Adam(disc_A.parameters(), lr=lr, betas=(0.5, 0.999))\r\n",
        "disc_B = Discriminator(dim_B).to(device)\r\n",
        "disc_B_opt = torch.optim.Adam(disc_B.parameters(), lr=lr, betas=(0.5, 0.999))\r\n",
        "\r\n",
        "def weights_init(m):\r\n",
        "    if isinstance(m, nn.Conv2d) or isinstance(m, nn.ConvTranspose2d):\r\n",
        "        torch.nn.init.normal_(m.weight, 0.0, 0.02)\r\n",
        "    if isinstance(m, nn.BatchNorm2d):\r\n",
        "        torch.nn.init.normal_(m.weight, 0.0, 0.02)\r\n",
        "        torch.nn.init.constant_(m.bias, 0)\r\n",
        "\r\n",
        "# Feel free to change pretrained to False if you're training the model from scratch\r\n",
        "pretrained = True\r\n",
        "if pretrained:\r\n",
        "    pre_dict = torch.load('cycleGAN_100000.pth')\r\n",
        "    gen_AB.load_state_dict(pre_dict['gen_AB'])\r\n",
        "    gen_BA.load_state_dict(pre_dict['gen_BA'])\r\n",
        "    gen_opt.load_state_dict(pre_dict['gen_opt'])\r\n",
        "    disc_A.load_state_dict(pre_dict['disc_A'])\r\n",
        "    disc_A_opt.load_state_dict(pre_dict['disc_A_opt'])\r\n",
        "    disc_B.load_state_dict(pre_dict['disc_B'])\r\n",
        "    disc_B_opt.load_state_dict(pre_dict['disc_B_opt'])\r\n",
        "else:\r\n",
        "    gen_AB = gen_AB.apply(weights_init)\r\n",
        "    gen_BA = gen_BA.apply(weights_init)\r\n",
        "    disc_A = disc_A.apply(weights_init)\r\n",
        "    disc_B = disc_B.apply(weights_init)"
      ],
      "execution_count": 2,
      "outputs": [
        {
          "output_type": "error",
          "ename": "NameError",
          "evalue": "ignored",
          "traceback": [
            "\u001b[0;31m---------------------------------------------------------------------------\u001b[0m",
            "\u001b[0;31mNameError\u001b[0m                                 Traceback (most recent call last)",
            "\u001b[0;32m<ipython-input-2-26576da7d901>\u001b[0m in \u001b[0;36m<module>\u001b[0;34m()\u001b[0m\n\u001b[0;32m----> 1\u001b[0;31m \u001b[0mgen_AB\u001b[0m \u001b[0;34m=\u001b[0m \u001b[0mGenerator\u001b[0m\u001b[0;34m(\u001b[0m\u001b[0mdim_A\u001b[0m\u001b[0;34m,\u001b[0m \u001b[0mdim_B\u001b[0m\u001b[0;34m)\u001b[0m\u001b[0;34m.\u001b[0m\u001b[0mto\u001b[0m\u001b[0;34m(\u001b[0m\u001b[0mdevice\u001b[0m\u001b[0;34m)\u001b[0m\u001b[0;34m\u001b[0m\u001b[0;34m\u001b[0m\u001b[0m\n\u001b[0m\u001b[1;32m      2\u001b[0m \u001b[0mgen_BA\u001b[0m \u001b[0;34m=\u001b[0m \u001b[0mGenerator\u001b[0m\u001b[0;34m(\u001b[0m\u001b[0mdim_B\u001b[0m\u001b[0;34m,\u001b[0m \u001b[0mdim_A\u001b[0m\u001b[0;34m)\u001b[0m\u001b[0;34m.\u001b[0m\u001b[0mto\u001b[0m\u001b[0;34m(\u001b[0m\u001b[0mdevice\u001b[0m\u001b[0;34m)\u001b[0m\u001b[0;34m\u001b[0m\u001b[0;34m\u001b[0m\u001b[0m\n\u001b[1;32m      3\u001b[0m \u001b[0mgen_opt\u001b[0m \u001b[0;34m=\u001b[0m \u001b[0mtorch\u001b[0m\u001b[0;34m.\u001b[0m\u001b[0moptim\u001b[0m\u001b[0;34m.\u001b[0m\u001b[0mAdam\u001b[0m\u001b[0;34m(\u001b[0m\u001b[0mlist\u001b[0m\u001b[0;34m(\u001b[0m\u001b[0mgen_AB\u001b[0m\u001b[0;34m.\u001b[0m\u001b[0mparameters\u001b[0m\u001b[0;34m(\u001b[0m\u001b[0;34m)\u001b[0m\u001b[0;34m)\u001b[0m \u001b[0;34m+\u001b[0m \u001b[0mlist\u001b[0m\u001b[0;34m(\u001b[0m\u001b[0mgen_BA\u001b[0m\u001b[0;34m.\u001b[0m\u001b[0mparameters\u001b[0m\u001b[0;34m(\u001b[0m\u001b[0;34m)\u001b[0m\u001b[0;34m)\u001b[0m\u001b[0;34m,\u001b[0m \u001b[0mlr\u001b[0m\u001b[0;34m=\u001b[0m\u001b[0mlr\u001b[0m\u001b[0;34m,\u001b[0m \u001b[0mbetas\u001b[0m\u001b[0;34m=\u001b[0m\u001b[0;34m(\u001b[0m\u001b[0;36m0.5\u001b[0m\u001b[0;34m,\u001b[0m \u001b[0;36m0.999\u001b[0m\u001b[0;34m)\u001b[0m\u001b[0;34m)\u001b[0m\u001b[0;34m\u001b[0m\u001b[0;34m\u001b[0m\u001b[0m\n\u001b[1;32m      4\u001b[0m \u001b[0mdisc_A\u001b[0m \u001b[0;34m=\u001b[0m \u001b[0mDiscriminator\u001b[0m\u001b[0;34m(\u001b[0m\u001b[0mdim_A\u001b[0m\u001b[0;34m)\u001b[0m\u001b[0;34m.\u001b[0m\u001b[0mto\u001b[0m\u001b[0;34m(\u001b[0m\u001b[0mdevice\u001b[0m\u001b[0;34m)\u001b[0m\u001b[0;34m\u001b[0m\u001b[0;34m\u001b[0m\u001b[0m\n\u001b[1;32m      5\u001b[0m \u001b[0mdisc_A_opt\u001b[0m \u001b[0;34m=\u001b[0m \u001b[0mtorch\u001b[0m\u001b[0;34m.\u001b[0m\u001b[0moptim\u001b[0m\u001b[0;34m.\u001b[0m\u001b[0mAdam\u001b[0m\u001b[0;34m(\u001b[0m\u001b[0mdisc_A\u001b[0m\u001b[0;34m.\u001b[0m\u001b[0mparameters\u001b[0m\u001b[0;34m(\u001b[0m\u001b[0;34m)\u001b[0m\u001b[0;34m,\u001b[0m \u001b[0mlr\u001b[0m\u001b[0;34m=\u001b[0m\u001b[0mlr\u001b[0m\u001b[0;34m,\u001b[0m \u001b[0mbetas\u001b[0m\u001b[0;34m=\u001b[0m\u001b[0;34m(\u001b[0m\u001b[0;36m0.5\u001b[0m\u001b[0;34m,\u001b[0m \u001b[0;36m0.999\u001b[0m\u001b[0;34m)\u001b[0m\u001b[0;34m)\u001b[0m\u001b[0;34m\u001b[0m\u001b[0;34m\u001b[0m\u001b[0m\n",
            "\u001b[0;31mNameError\u001b[0m: name 'Generator' is not defined"
          ]
        }
      ]
    },
    {
      "cell_type": "markdown",
      "metadata": {
        "id": "v0uKUnFCm5FT"
      },
      "source": [
        "#**Discriminator Loss**\r\n",
        "\r\n",
        "First, you're going to be implementing the discriminator loss. This is the same as in previous assignments, so it should be a breeze :) Don't forget to detach your generator!"
      ]
    },
    {
      "cell_type": "code",
      "metadata": {
        "id": "-Lwzguvom1Vs"
      },
      "source": [
        "# UNQ_C1 (UNIQUE CELL IDENTIFIER, DO NOT EDIT)\r\n",
        "# GRADED FUNCTION: get_disc_loss\r\n",
        "def get_disc_loss(real_X, fake_X, disc_X, adv_criterion):\r\n",
        "    '''\r\n",
        "    Return the loss of the discriminator given inputs.\r\n",
        "    Parameters:\r\n",
        "        real_X: the real images from pile X\r\n",
        "        fake_X: the generated images of class X\r\n",
        "        disc_X: the discriminator for class X; takes images and returns real/fake class X\r\n",
        "            prediction matrices\r\n",
        "        adv_criterion: the adversarial loss function; takes the discriminator \r\n",
        "            predictions and the target labels and returns a adversarial \r\n",
        "            loss (which you aim to minimize)\r\n",
        "    '''\r\n",
        "    #### START CODE HERE ####\r\n",
        "    #### END CODE HERE ####\r\n",
        "    return disc_loss"
      ],
      "execution_count": null,
      "outputs": []
    },
    {
      "cell_type": "code",
      "metadata": {
        "id": "japaPsIanCL3"
      },
      "source": [
        "# UNIT TEST\r\n",
        "test_disc_X = lambda x: x * 97\r\n",
        "test_real_X = torch.tensor(83.)\r\n",
        "test_fake_X = torch.tensor(89.)\r\n",
        "test_adv_criterion = lambda x, y: x * 79 + y * 73\r\n",
        "assert torch.abs((get_disc_loss(test_real_X, test_fake_X, test_disc_X, test_adv_criterion)) - 659054.5000) < 1e-6\r\n",
        "test_disc_X = lambda x: x.mean(0, keepdim=True)\r\n",
        "test_adv_criterion = torch.nn.BCEWithLogitsLoss()\r\n",
        "test_input = torch.ones(20, 10)\r\n",
        "# If this runs, it's a pass - checks that the shapes are treated correctly\r\n",
        "get_disc_loss(test_input, test_input, test_disc_X, test_adv_criterion)\r\n",
        "print(\"Success!\")"
      ],
      "execution_count": null,
      "outputs": []
    },
    {
      "cell_type": "markdown",
      "metadata": {
        "id": "B2SacGk8nGB9"
      },
      "source": [
        "#**Generator Loss**\r\n",
        "While there are some changes to the CycleGAN architecture from Pix2Pix, the most important distinguishing feature of CycleGAN is its generator loss. You will be implementing that here!\r\n",
        "\r\n",
        "\r\n",
        "**Adversarial Loss**\r\n",
        "\r\n",
        "The first component of the generator's loss you're going to implement is its adversarial loss—this once again is pretty similar to the GAN loss that you've implemented in the past. The important thing to note is that the criterion now is based on least squares loss, rather than binary cross entropy loss or W-loss."
      ]
    },
    {
      "cell_type": "code",
      "metadata": {
        "id": "-yU-YMofnQGC"
      },
      "source": [
        "# UNQ_C2 (UNIQUE CELL IDENTIFIER, DO NOT EDIT)\r\n",
        "# GRADED FUNCTION: get_gen_adversarial_loss\r\n",
        "def get_gen_adversarial_loss(real_X, disc_Y, gen_XY, adv_criterion):\r\n",
        "    '''\r\n",
        "    Return the adversarial loss of the generator given inputs\r\n",
        "    (and the generated images for testing purposes).\r\n",
        "    Parameters:\r\n",
        "        real_X: the real images from pile X\r\n",
        "        disc_Y: the discriminator for class Y; takes images and returns real/fake class Y\r\n",
        "            prediction matrices\r\n",
        "        gen_XY: the generator for class X to Y; takes images and returns the images \r\n",
        "            transformed to class Y\r\n",
        "        adv_criterion: the adversarial loss function; takes the discriminator \r\n",
        "                  predictions and the target labels and returns a adversarial \r\n",
        "                  loss (which you aim to minimize)\r\n",
        "    '''\r\n",
        "    #### START CODE HERE ####\r\n",
        "    #### END CODE HERE ####\r\n",
        "    return adversarial_loss, fake_Y"
      ],
      "execution_count": null,
      "outputs": []
    },
    {
      "cell_type": "code",
      "metadata": {
        "id": "zyGY-v4-nUvR"
      },
      "source": [
        "# UNIT TEST\r\n",
        "test_disc_Y = lambda x: x * 97\r\n",
        "test_real_X = torch.tensor(83.)\r\n",
        "test_gen_XY = lambda x: x * 89\r\n",
        "test_adv_criterion = lambda x, y: x * 79 + y * 73\r\n",
        "test_res = get_gen_adversarial_loss(test_real_X, test_disc_Y, test_gen_XY, test_adv_criterion)\r\n",
        "assert torch.abs(test_res[0] - 56606652) < 1e-6\r\n",
        "assert torch.abs(test_res[1] - 7387) < 1e-6\r\n",
        "test_disc_Y = lambda x: x.mean(0, keepdim=True)\r\n",
        "test_adv_criterion = torch.nn.BCEWithLogitsLoss()\r\n",
        "test_input = torch.ones(20, 10)\r\n",
        "# If this runs, it's a pass - checks that the shapes are treated correctly\r\n",
        "get_gen_adversarial_loss(test_input, test_disc_Y, test_gen_XY, test_adv_criterion)\r\n",
        "print(\"Success!\")"
      ],
      "execution_count": null,
      "outputs": []
    },
    {
      "cell_type": "markdown",
      "metadata": {
        "id": "j7gJCHxfnaaR"
      },
      "source": [
        "##**Identity Loss**\r\n",
        "Here you get to see some of the superbly new material! You'll want to measure the change in an image when you pass the generator an example from the target domain instead of the input domain it's expecting. The output should be the same as the input since it is already of the target domain class. For example, if you put a horse through a zebra -> horse generator, you'd expect the output to be the same horse because nothing needed to be transformed. It's already a horse! You don't want your generator to be transforming it into any other thing, so you want to encourage this behavior. In encouraging this identity mapping, the authors of CycleGAN found that for some tasks, this helped properly preserve the colors of an image, even when the expected input (here, a zebra) was put in. This was particularly useful for the photos <-> paintings mapping and, while an optional aesthetic component, you might find it useful for your applications down the line.\r\n",
        "\r\n",
        "Diagram showing a real horse image going through a zebra -> horse generator and the ideal output being the same input image"
      ]
    },
    {
      "cell_type": "code",
      "metadata": {
        "id": "gPLr7v8Eomzl"
      },
      "source": [
        "# UNQ_C3 (UNIQUE CELL IDENTIFIER, DO NOT EDIT)\r\n",
        "# GRADED FUNCTION: get_identity_loss\r\n",
        "def get_identity_loss(real_X, gen_YX, identity_criterion):\r\n",
        "    '''\r\n",
        "    Return the identity loss of the generator given inputs\r\n",
        "    (and the generated images for testing purposes).\r\n",
        "    Parameters:\r\n",
        "        real_X: the real images from pile X\r\n",
        "        gen_YX: the generator for class Y to X; takes images and returns the images \r\n",
        "            transformed to class X\r\n",
        "        identity_criterion: the identity loss function; takes the real images from X and\r\n",
        "                        those images put through a Y->X generator and returns the identity \r\n",
        "                        loss (which you aim to minimize)\r\n",
        "    '''\r\n",
        "    #### START CODE HERE ####\r\n",
        "    #### END CODE HERE ####\r\n",
        "    return identity_loss, identity_X"
      ],
      "execution_count": null,
      "outputs": []
    },
    {
      "cell_type": "code",
      "metadata": {
        "id": "4pm_TWjkojOg"
      },
      "source": [
        "# UNIT TEST\r\n",
        "test_real_X = torch.tensor(83.)\r\n",
        "test_gen_YX = lambda x: x * 89\r\n",
        "test_identity_criterion = lambda x, y: (x + y) * 73\r\n",
        "test_res = get_identity_loss(test_real_X, test_gen_YX, test_identity_criterion)\r\n",
        "assert torch.abs(test_res[0] - 545310) < 1e-6\r\n",
        "assert torch.abs(test_res[1] - 7387) < 1e-6\r\n",
        "print(\"Success!\")"
      ],
      "execution_count": null,
      "outputs": []
    },
    {
      "cell_type": "markdown",
      "metadata": {
        "id": "KNrTeyk6orq1"
      },
      "source": [
        "##**Cycle Consistency Loss**\r\n",
        "Now, you can implement the final generator loss and the part that puts the \"cycle\" in CycleGAN: cycle consistency loss. This is used to ensure that when you put an image through one generator, that if it is then transformed back into the input class using the opposite generator, the image is the same as the original input image.\r\n",
        "\r\n",
        "Diagram showing a real zebra image being transformed into a horse and then back into a zebra. The output zebra should be the same as the input zebra.\r\n",
        "\r\n",
        "Since you've already generated a fake image for the adversarial part, you can pass that fake image back to produce a full cycle—this loss will encourage the cycle to preserve as much information as possible.\r\n",
        "\r\n",
        "Fun fact: Cycle consistency is a broader concept that's used outside of CycleGAN a lot too! It's helped with data augmentation and has been used on text translation too, e.g. French -> English -> French should get the same phrase back."
      ]
    },
    {
      "cell_type": "code",
      "metadata": {
        "id": "ifkTVOz8og4N"
      },
      "source": [
        "# UNQ_C4 (UNIQUE CELL IDENTIFIER, DO NOT EDIT)\r\n",
        "# GRADED FUNCTION: get_cycle_consistency_loss\r\n",
        "def get_cycle_consistency_loss(real_X, fake_Y, gen_YX, cycle_criterion):\r\n",
        "    '''\r\n",
        "    Return the cycle consistency loss of the generator given inputs\r\n",
        "    (and the generated images for testing purposes).\r\n",
        "    Parameters:\r\n",
        "        real_X: the real images from pile X\r\n",
        "        fake_Y: the generated images of class Y\r\n",
        "        gen_YX: the generator for class Y to X; takes images and returns the images \r\n",
        "            transformed to class X\r\n",
        "        cycle_criterion: the cycle consistency loss function; takes the real images from X and\r\n",
        "                        those images put through a X->Y generator and then Y->X generator\r\n",
        "                        and returns the cycle consistency loss (which you aim to minimize)\r\n",
        "    '''\r\n",
        "    #### START CODE HERE ####\r\n",
        "    #### END CODE HERE ####\r\n",
        "    return cycle_loss, cycle_X"
      ],
      "execution_count": null,
      "outputs": []
    },
    {
      "cell_type": "code",
      "metadata": {
        "id": "fzIbRN-woC8W"
      },
      "source": [
        "# UNIT TEST\r\n",
        "test_real_X = torch.tensor(83.)\r\n",
        "test_fake_Y = torch.tensor(97.)\r\n",
        "test_gen_YX = lambda x: x * 89\r\n",
        "test_cycle_criterion = lambda x, y: (x + y) * 73\r\n",
        "test_res = get_cycle_consistency_loss(test_real_X, test_fake_Y, test_gen_YX, test_cycle_criterion)\r\n",
        "assert torch.abs(test_res[1] - 8633) < 1e-6\r\n",
        "assert torch.abs(test_res[0] - 636268) < 1e-6\r\n",
        "print(\"Success!\")"
      ],
      "execution_count": null,
      "outputs": []
    },
    {
      "cell_type": "markdown",
      "metadata": {
        "id": "S9wfGZhPoc-x"
      },
      "source": [
        "##**Generator Loss (Total)**\r\n",
        "Finally, you can put it all together! There are many components, so be careful as you go through this section."
      ]
    },
    {
      "cell_type": "code",
      "metadata": {
        "id": "8Ha7zQiYoC4v"
      },
      "source": [
        "# UNQ_C5 (UNIQUE CELL IDENTIFIER, DO NOT EDIT)\r\n",
        "# GRADED FUNCTION: get_gen_loss\r\n",
        "def get_gen_loss(real_A, real_B, gen_AB, gen_BA, disc_A, disc_B, adv_criterion, identity_criterion, cycle_criterion, lambda_identity=0.1, lambda_cycle=10):\r\n",
        "    '''\r\n",
        "    Return the loss of the generator given inputs.\r\n",
        "    Parameters:\r\n",
        "        real_A: the real images from pile A\r\n",
        "        real_B: the real images from pile B\r\n",
        "        gen_AB: the generator for class A to B; takes images and returns the images \r\n",
        "            transformed to class B\r\n",
        "        gen_BA: the generator for class B to A; takes images and returns the images \r\n",
        "            transformed to class A\r\n",
        "        disc_A: the discriminator for class A; takes images and returns real/fake class A\r\n",
        "            prediction matrices\r\n",
        "        disc_B: the discriminator for class B; takes images and returns real/fake class B\r\n",
        "            prediction matrices\r\n",
        "        adv_criterion: the adversarial loss function; takes the discriminator \r\n",
        "            predictions and the true labels and returns a adversarial \r\n",
        "            loss (which you aim to minimize)\r\n",
        "        identity_criterion: the reconstruction loss function used for identity loss\r\n",
        "            and cycle consistency loss; takes two sets of images and returns\r\n",
        "            their pixel differences (which you aim to minimize)\r\n",
        "        cycle_criterion: the cycle consistency loss function; takes the real images from X and\r\n",
        "            those images put through a X->Y generator and then Y->X generator\r\n",
        "            and returns the cycle consistency loss (which you aim to minimize).\r\n",
        "            Note that in practice, cycle_criterion == identity_criterion == L1 loss\r\n",
        "        lambda_identity: the weight of the identity loss\r\n",
        "        lambda_cycle: the weight of the cycle-consistency loss\r\n",
        "    '''\r\n",
        "    # Hint 1: Make sure you include both directions - you can think of the generators as collaborating\r\n",
        "    # Hint 2: Don't forget to use the lambdas for the identity loss and cycle loss!\r\n",
        "    #### START CODE HERE ####\r\n",
        "    # Adversarial Loss -- get_gen_adversarial_loss(real_X, disc_Y, gen_XY, adv_criterion)\r\n",
        "\r\n",
        "    # Identity Loss -- get_identity_loss(real_X, gen_YX, identity_criterion)\r\n",
        "\r\n",
        "    # Cycle-consistency Loss -- get_cycle_consistency_loss(real_X, fake_Y, gen_YX, cycle_criterion)\r\n",
        "\r\n",
        "    # Total loss\r\n",
        "    #### END CODE HERE ####\r\n",
        "    return gen_loss, fake_A, fake_B"
      ],
      "execution_count": null,
      "outputs": []
    },
    {
      "cell_type": "code",
      "metadata": {
        "id": "a9UiPKFroC01"
      },
      "source": [
        "# UNIT TEST\r\n",
        "test_real_A = torch.tensor(97)\r\n",
        "test_real_B = torch.tensor(89)\r\n",
        "test_gen_AB = lambda x: x * 83\r\n",
        "test_gen_BA = lambda x: x * 79\r\n",
        "test_disc_A = lambda x: x * 47\r\n",
        "test_disc_B = lambda x: x * 43\r\n",
        "test_adv_criterion = lambda x, y: x * 73 + y * 71\r\n",
        "test_recon_criterion = lambda x, y: (x + y) * 61\r\n",
        "test_lambda_identity = 59\r\n",
        "test_lambda_cycle = 53\r\n",
        "test_res = get_gen_loss(\r\n",
        "    test_real_A, \r\n",
        "    test_real_B, \r\n",
        "    test_gen_AB, \r\n",
        "    test_gen_BA, \r\n",
        "    test_disc_A,\r\n",
        "    test_disc_B,\r\n",
        "    test_adv_criterion, \r\n",
        "    test_recon_criterion, \r\n",
        "    test_recon_criterion, \r\n",
        "    test_lambda_identity, \r\n",
        "    test_lambda_cycle)\r\n",
        "assert test_res[0].item() == 4047804560\r\n",
        "assert test_res[1].item() == 7031\r\n",
        "assert test_res[2].item() == 8051\r\n",
        "print(\"Success!\")"
      ],
      "execution_count": null,
      "outputs": []
    },
    {
      "cell_type": "markdown",
      "metadata": {
        "id": "267v1kxYnn0I"
      },
      "source": [
        "#**CycleGAN Training**\r\n",
        "\r\n",
        "Lastly, you can train the model and see some of your zebras, horses, and some that might not quite look like either! Note that this training will take a long time, so feel free to use the pre-trained checkpoint as an example of what a pretty-good CycleGAN does."
      ]
    },
    {
      "cell_type": "code",
      "metadata": {
        "id": "lPZe5F05nZ12"
      },
      "source": [
        "from skimage import color\r\n",
        "import numpy as np\r\n",
        "plt.rcParams[\"figure.figsize\"] = (10, 10)\r\n",
        "\r\n",
        "\r\n",
        "def train(save_model=False):\r\n",
        "    mean_generator_loss = 0\r\n",
        "    mean_discriminator_loss = 0\r\n",
        "    dataloader = DataLoader(dataset, batch_size=batch_size, shuffle=True)\r\n",
        "    cur_step = 0\r\n",
        "\r\n",
        "    for epoch in range(n_epochs):\r\n",
        "        # Dataloader returns the batches\r\n",
        "        # for image, _ in tqdm(dataloader):\r\n",
        "        for real_A, real_B in tqdm(dataloader):\r\n",
        "            # image_width = image.shape[3]\r\n",
        "            real_A = nn.functional.interpolate(real_A, size=target_shape)\r\n",
        "            real_B = nn.functional.interpolate(real_B, size=target_shape)\r\n",
        "            cur_batch_size = len(real_A)\r\n",
        "            real_A = real_A.to(device)\r\n",
        "            real_B = real_B.to(device)\r\n",
        "\r\n",
        "            ### Update discriminator A ###\r\n",
        "            disc_A_opt.zero_grad() # Zero out the gradient before backpropagation\r\n",
        "            with torch.no_grad():\r\n",
        "                fake_A = gen_BA(real_B)\r\n",
        "            disc_A_loss = get_disc_loss(real_A, fake_A, disc_A, adv_criterion)\r\n",
        "            disc_A_loss.backward(retain_graph=True) # Update gradients\r\n",
        "            disc_A_opt.step() # Update optimizer\r\n",
        "\r\n",
        "            ### Update discriminator B ###\r\n",
        "            disc_B_opt.zero_grad() # Zero out the gradient before backpropagation\r\n",
        "            with torch.no_grad():\r\n",
        "                fake_B = gen_AB(real_A)\r\n",
        "            disc_B_loss = get_disc_loss(real_B, fake_B, disc_B, adv_criterion)\r\n",
        "            disc_B_loss.backward(retain_graph=True) # Update gradients\r\n",
        "            disc_B_opt.step() # Update optimizer\r\n",
        "\r\n",
        "            ### Update generator ###\r\n",
        "            gen_opt.zero_grad()\r\n",
        "            gen_loss, fake_A, fake_B = get_gen_loss(\r\n",
        "                real_A, real_B, gen_AB, gen_BA, disc_A, disc_B, adv_criterion, recon_criterion, recon_criterion\r\n",
        "            )\r\n",
        "            gen_loss.backward() # Update gradients\r\n",
        "            gen_opt.step() # Update optimizer\r\n",
        "\r\n",
        "            # Keep track of the average discriminator loss\r\n",
        "            mean_discriminator_loss += disc_A_loss.item() / display_step\r\n",
        "            # Keep track of the average generator loss\r\n",
        "            mean_generator_loss += gen_loss.item() / display_step\r\n",
        "\r\n",
        "            ### Visualization code ###\r\n",
        "            if cur_step % display_step == 0:\r\n",
        "                print(f\"Epoch {epoch}: Step {cur_step}: Generator (U-Net) loss: {mean_generator_loss}, Discriminator loss: {mean_discriminator_loss}\")\r\n",
        "                show_tensor_images(torch.cat([real_A, real_B]), size=(dim_A, target_shape, target_shape))\r\n",
        "                show_tensor_images(torch.cat([fake_B, fake_A]), size=(dim_B, target_shape, target_shape))\r\n",
        "                mean_generator_loss = 0\r\n",
        "                mean_discriminator_loss = 0\r\n",
        "                # You can change save_model to True if you'd like to save the model\r\n",
        "                if save_model:\r\n",
        "                    torch.save({\r\n",
        "                        'gen_AB': gen_AB.state_dict(),\r\n",
        "                        'gen_BA': gen_BA.state_dict(),\r\n",
        "                        'gen_opt': gen_opt.state_dict(),\r\n",
        "                        'disc_A': disc_A.state_dict(),\r\n",
        "                        'disc_A_opt': disc_A_opt.state_dict(),\r\n",
        "                        'disc_B': disc_B.state_dict(),\r\n",
        "                        'disc_B_opt': disc_B_opt.state_dict()\r\n",
        "                    }, f\"cycleGAN_{cur_step}.pth\")\r\n",
        "            cur_step += 1\r\n",
        "train()"
      ],
      "execution_count": null,
      "outputs": []
    }
  ]
}